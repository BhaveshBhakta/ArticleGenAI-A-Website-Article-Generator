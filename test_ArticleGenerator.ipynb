{
 "cells": [
  {
   "cell_type": "markdown",
   "metadata": {},
   "source": [
    "# ArticleGenAI : Turn Any Webpage into a Ready-to-Publish Article\n",
    "\n",
    "> ArticleGenAI is an AI-powered tool that turns any website URL into a clear, concise article. Built with Flask and Groq LLaMA 3, it extracts key points and generates reader-friendly content in seconds."
   ]
  },
  {
   "cell_type": "code",
   "execution_count": 3,
   "metadata": {},
   "outputs": [],
   "source": [
    "# Importing Libraries\n",
    "\n",
    "import re\n",
    "import os\n",
    "from dotenv import load_dotenv\n",
    "from langchain_groq import ChatGroq\n",
    "from langchain_core.prompts import PromptTemplate\n",
    "from langchain_community.document_loaders import WebBaseLoader\n",
    "\n",
    "load_dotenv()\n",
    "GROQ_API_KEY = os.getenv(\"GROQ_API_KEY\")"
   ]
  },
  {
   "cell_type": "code",
   "execution_count": 4,
   "metadata": {},
   "outputs": [],
   "source": [
    "# Function for Text Cleaning\n",
    "\n",
    "def clean_text(text):\n",
    "    text = re.sub(r'\\n\\s*\\n+', '\\n\\n', text)\n",
    "    return '\\n'.join(line.strip() for line in text.strip().splitlines())"
   ]
  },
  {
   "cell_type": "code",
   "execution_count": null,
   "metadata": {},
   "outputs": [],
   "source": [
    "class ArticleGenerator:\n",
    "    def __init__(self):\n",
    "        self.llm = ChatGroq(\n",
    "                            temperature = 0.2, # Adjust temperature for creativity\n",
    "                            groq_api_key = GROQ_API_KEY,\n",
    "                            model_name = \"llama-3.3-70b-versatile\" # Change to your desired model\n",
    "                            )\n",
    "\n",
    "    def extract_website_info(self, page_data): # Extracting website information\n",
    "        prompt = PromptTemplate.from_template(\"\"\"\n",
    "        ### SCRAPED TEXT FROM WEBSITE:\n",
    "        {page_data}\n",
    "\n",
    "        ### INSTRUCTION:\n",
    "        Summarize the key points and content of the website. Highlight the main ideas.\n",
    "\n",
    "        ### OUTPUT:\n",
    "        \"\"\")\n",
    "        chain = prompt | self.llm\n",
    "        try:\n",
    "            res = chain.invoke({\"page_data\": page_data})\n",
    "            return res.content\n",
    "        except Exception as e:\n",
    "            print(\"Error extracting website info:\", e)\n",
    "            return None\n",
    "\n",
    "    def generate_article(self, article_info):  # Prompt Template for article generation\n",
    "        prompt = PromptTemplate.from_template(\"\"\"\n",
    "        ### ARTICLE INFORMATION:\n",
    "        {article_info}\n",
    "\n",
    "        ### INSTRUCTION:\n",
    "        Write a high-quality article based on the provided information. It should be engaging, informative, \n",
    "        and tailored to a general audience. Avoid fluff and keep it concise.\n",
    "\n",
    "        ### Website Article:\n",
    "        \"\"\")\n",
    "        chain = prompt | self.llm\n",
    "        try:\n",
    "            res = chain.invoke({\"article_info\": article_info})\n",
    "            return res.content\n",
    "        except Exception as e:\n",
    "            print(\"Error generating article:\", e)\n",
    "            return None"
   ]
  },
  {
   "cell_type": "code",
   "execution_count": null,
   "metadata": {},
   "outputs": [
    {
     "name": "stdout",
     "output_type": "stream",
     "text": [
      "\n",
      "📝 Generated Article:\n",
      "\n",
      "**Bank of America's AI Strategy: A Model for Success**\n",
      "\n",
      "In the rapidly evolving world of artificial intelligence, Bank of America stands out as a pioneer in harnessing the power of AI to drive business outcomes. According to a recent study by Forrester, the bank's AI approach has yielded impressive results, with its AI-powered virtual assistant, Erica, handling 2.7 billion client interactions since its launch in 2018. But what sets Bank of America's AI strategy apart, and what lessons can other industries learn from its success?\n",
      "\n",
      "**A Foundation, Not a Project**\n",
      "\n",
      "Bank of America's approach to AI is built on a clean, connected data layer, which serves as the foundation for its AI initiatives. This investment in data infrastructure has enabled the bank to launch and learn from various AI projects, continuously evolving and improving its capabilities. Erica, the bank's AI cornerstone, has become an enterprise platform, freeing employees from routine tasks and allowing them to focus on higher-value work.\n",
      "\n",
      "**Data-Driven Decision Making**\n",
      "\n",
      "The bank's AI engine uses a data-driven loop to inform decision making, with a cycle of data, triggers, insights, treatments, and AI. This approach has led to significant business outcomes, including the enrollment of 2 million new Preferred Rewards members and a 16% lift in digital sales. By leveraging data and insights, Bank of America has been able to drive meaningful results and improve customer experiences.\n",
      "\n",
      "**Key Takeaways for Industries**\n",
      "\n",
      "So, what can other industries learn from Bank of America's AI strategy? Forrester identifies three key takeaways:\n",
      "\n",
      "1. **Unify Your Data**: Before investing in AI, it's essential to unify your data to make downstream AI initiatives easier. A clean, connected data layer is critical to unlocking the full potential of AI.\n",
      "2. **Boost AI's Value with Insight**: While raw data fuels models, an insight layer is necessary to multiply the return on investment. By leveraging insights, businesses can drive more informed decision making and improve outcomes.\n",
      "3. **Reinvest Talent**: As AI automates routine tasks, it's crucial to redeploy staff into higher-value, AI-building roles. This approach enables businesses to unlock the full potential of their workforce and drive innovation.\n",
      "\n",
      "**A Model for Success**\n",
      "\n",
      "Bank of America's AI strategy serves as a model for success, demonstrating the power of a well-planned and executed AI approach. By investing in a clean data layer, continuously evolving and improving AI capabilities, and leveraging data-driven decision making, businesses can drive meaningful outcomes and improve customer experiences. As industries continue to navigate the rapidly evolving world of AI, Bank of America's strategy offers valuable lessons and insights for success.\n"
     ]
    }
   ],
   "source": [
    "# Example Usage\n",
    "\n",
    "if __name__ == \"__main__\":  \n",
    "    website_url = \"https://www.startupindia.gov.in/content/sih/en/bloglist/blogs/how-to-use-the-startup-india-portal-from-registration-to-growth.html\"\n",
    "    \n",
    "    try:\n",
    "        print(\"🌐 Loading website content...\")\n",
    "        loader = WebBaseLoader([website_url])\n",
    "        page_data = loader.load()\n",
    "        \n",
    "        if page_data:\n",
    "            page_text = page_data[0].page_content \n",
    "            cleaned_text = clean_text(page_text)\n",
    "            \n",
    "            print(\"🤖 Initializing article generator...\")\n",
    "            article_gen = ArticleGenerator()\n",
    "            \n",
    "            print(\"📊 Extracting website information...\")\n",
    "            article_info = article_gen.extract_website_info(cleaned_text)\n",
    "            \n",
    "            if article_info:\n",
    "                print(\"✍️ Generating article...\")\n",
    "                article = article_gen.generate_article(article_info)\n",
    "                \n",
    "                if article:\n",
    "                    print(\"\\n📝 Generated Article:\\n\")\n",
    "                    print(\"=\" * 50)\n",
    "                    print(article)\n",
    "                    print(\"=\" * 50)\n",
    "                else:\n",
    "                    print(\"❌ Failed to generate article.\")\n",
    "            else:\n",
    "                print(\"❌ Failed to extract article info from the webpage.\")\n",
    "        else:\n",
    "            print(\"❌ No content loaded from the webpage.\")\n",
    "            \n",
    "    except Exception as e:\n",
    "        print(f\"❌ Error loading or processing the webpage: {e}\")\n"
   ]
  },
  {
   "cell_type": "code",
   "execution_count": null,
   "metadata": {},
   "outputs": [],
   "source": []
  }
 ],
 "metadata": {
  "kernelspec": {
   "display_name": "langenv",
   "language": "python",
   "name": "python3"
  },
  "language_info": {
   "codemirror_mode": {
    "name": "ipython",
    "version": 3
   },
   "file_extension": ".py",
   "mimetype": "text/x-python",
   "name": "python",
   "nbconvert_exporter": "python",
   "pygments_lexer": "ipython3",
   "version": "3.13.5"
  }
 },
 "nbformat": 4,
 "nbformat_minor": 2
}
